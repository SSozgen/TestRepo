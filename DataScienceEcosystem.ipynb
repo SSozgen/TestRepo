{
  "metadata": {
    "kernelspec": {
      "name": "python",
      "display_name": "Python (Pyodide)",
      "language": "python"
    },
    "language_info": {
      "codemirror_mode": {
        "name": "python",
        "version": 3
      },
      "file_extension": ".py",
      "mimetype": "text/x-python",
      "name": "python",
      "nbconvert_exporter": "python",
      "pygments_lexer": "ipython3",
      "version": "3.8"
    }
  },
  "nbformat_minor": 5,
  "nbformat": 4,
  "cells": [
    {
      "id": "a2b6e556-ef70-4456-8193-3d4aba3beb4f",
      "cell_type": "markdown",
      "source": "# Data Science Tools and Ecosystem",
      "metadata": {}
    },
    {
      "id": "17b40618-ca70-43f3-b0c9-c6551d921214",
      "cell_type": "markdown",
      "source": "In this notebook, data science tools and ecosystem are summarized.",
      "metadata": {}
    },
    {
      "id": "95d82d4a-2d30-44fe-bee4-74d9274ed768",
      "cell_type": "markdown",
      "source": "**Objectives**\n* List popular languages for data science\n* List popular libraries for data science\n* List popular data science tools \n* Show aritmetic expressions in Python",
      "metadata": {}
    },
    {
      "id": "36000562-50df-463f-b395-5c222a9c560d",
      "cell_type": "markdown",
      "source": "# Some of popular languages that Data Scientists use are: \n1. Python\n2. R\n3. SQL",
      "metadata": {}
    },
    {
      "id": "80e37fa5-34ab-4fe1-88e0-3f1025ca336a",
      "cell_type": "code",
      "source": "# Some of the commonly used libraries used by Data Scientists include:\n1. Pandas\n2. NumPy\n3. Matplotlib",
      "metadata": {
        "trusted": true,
        "scrolled": true
      },
      "outputs": [
        {
          "ename": "<class 'SyntaxError'>",
          "evalue": "invalid syntax (<ipython-input-43-3870aeaf76b4>, line 2)",
          "traceback": [
            "\u001b[0;36m  Cell \u001b[0;32mIn[43], line 2\u001b[0;36m\u001b[0m\n\u001b[0;31m    1. Pandas\u001b[0m\n\u001b[0m       ^\u001b[0m\n\u001b[0;31mSyntaxError\u001b[0m\u001b[0;31m:\u001b[0m invalid syntax\n"
          ],
          "output_type": "error"
        }
      ],
      "execution_count": 43
    },
    {
      "id": "2c815240-0bd9-43a9-8dba-14c1356ced6a",
      "cell_type": "markdown",
      "source": "| Data Science Tools |\n|--------------------|\n|Jupyter Notebooks|\n|R Studio|\n|Spyder|\n",
      "metadata": {}
    },
    {
      "id": "e6e1272d-31d1-408d-9130-8a98f0c0b4d4",
      "cell_type": "markdown",
      "source": "### Below are a few examples of evaluating arithmetic expressions in Python. ",
      "metadata": {}
    },
    {
      "id": "73497c58-d3ec-4afd-9d40-2d2f4201f0f5",
      "cell_type": "code",
      "source": "# This a simple arithmetic expression to multiply then add integers",
      "metadata": {
        "trusted": true
      },
      "outputs": [],
      "execution_count": 37
    },
    {
      "id": "6b9ac439-24ee-4bfd-b3d1-49f4ae11785d",
      "cell_type": "code",
      "source": "(3*4)+5",
      "metadata": {
        "trusted": true
      },
      "outputs": [
        {
          "execution_count": 28,
          "output_type": "execute_result",
          "data": {
            "text/plain": "17"
          },
          "metadata": {}
        }
      ],
      "execution_count": 28
    },
    {
      "id": "d88f1f0f-e05a-442c-9d0b-ee0dad15ba31",
      "cell_type": "code",
      "source": "# This will convert 200 minutes to hours by divided by 60.",
      "metadata": {
        "trusted": true
      },
      "outputs": [],
      "execution_count": 44
    },
    {
      "id": "23118aee-e711-458a-acfc-25942c313ed4",
      "cell_type": "code",
      "source": "200/60",
      "metadata": {
        "trusted": true
      },
      "outputs": [
        {
          "execution_count": 45,
          "output_type": "execute_result",
          "data": {
            "text/plain": "3.3333333333333335"
          },
          "metadata": {}
        }
      ],
      "execution_count": 45
    },
    {
      "id": "712dd17f-6050-41da-a4d9-8904d182aeee",
      "cell_type": "markdown",
      "source": "## Author:\nSila Sözgen",
      "metadata": {}
    },
    {
      "id": "f732d7fa-a5c8-4b76-ad11-f0dc6ce3ded5",
      "cell_type": "markdown",
      "source": "",
      "metadata": {}
    }
  ]
}